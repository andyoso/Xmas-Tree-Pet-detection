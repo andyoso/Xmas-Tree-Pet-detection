{
  "nbformat": 4,
  "nbformat_minor": 0,
  "metadata": {
    "colab": {
      "provenance": []
    },
    "kernelspec": {
      "name": "python3",
      "display_name": "Python 3"
    },
    "language_info": {
      "name": "python"
    }
  },
  "cells": [
    {
      "cell_type": "code",
      "source": [
        "# mount google drive\n",
        "from google.colab import drive\n",
        "drive.mount('/content/drive')"
      ],
      "metadata": {
        "colab": {
          "base_uri": "https://localhost:8080/"
        },
        "id": "vsEkqNcTkW1i",
        "outputId": "7fd13b17-1bed-47e1-bb18-d3a725818c46"
      },
      "execution_count": null,
      "outputs": [
        {
          "output_type": "stream",
          "name": "stdout",
          "text": [
            "Mounted at /content/drive\n"
          ]
        }
      ]
    },
    {
      "cell_type": "code",
      "execution_count": null,
      "metadata": {
        "id": "GQMptD0jcrPg"
      },
      "outputs": [],
      "source": [
        "import requests   \n",
        "\n",
        "def notify(msg, token):\n",
        "  url=\"https://notify-api.line.me/api/notify\"     # Line Notify API 網址\n",
        "  headers={\"Authorization\": \"Bearer \" + token}   # HTTPS 表頭\n",
        "  payload={\"message\": msg}               # HTTPS 承載 (內容)\n",
        "  r=requests.post(url, headers=headers, params=payload) # 提出 POST 請求\n",
        "  return \"訊息發送成功！\""
      ]
    },
    {
      "cell_type": "code",
      "source": [
        "token='Qh118dzcCM6eyQLpo5KR4hxEalUqCfnO99QG3RGfZFu'      \n",
        "msg='\\nNoah being naughty'       \n",
        "notify(msg, token)  "
      ],
      "metadata": {
        "colab": {
          "base_uri": "https://localhost:8080/",
          "height": 36
        },
        "id": "5N0H_L8vhWAW",
        "outputId": "81beb688-58af-4f5a-e301-8ebe404aa8f0"
      },
      "execution_count": null,
      "outputs": [
        {
          "output_type": "execute_result",
          "data": {
            "text/plain": [
              "'訊息發送成功！'"
            ],
            "application/vnd.google.colaboratory.intrinsic+json": {
              "type": "string"
            }
          },
          "metadata": {},
          "execution_count": 23
        }
      ]
    },
    {
      "cell_type": "code",
      "source": [
        "token='Qh118dzcCM6eyQLpo5KR4hxEalUqCfnO99QG3RGfZFu'      \n",
        "msg='\\nMelon being naughty'       \n",
        "notify(msg, token)  "
      ],
      "metadata": {
        "colab": {
          "base_uri": "https://localhost:8080/",
          "height": 36
        },
        "id": "H3u2wafihqxK",
        "outputId": "4b302648-5bfc-49a5-876a-1435ebb2f1a0"
      },
      "execution_count": null,
      "outputs": [
        {
          "output_type": "execute_result",
          "data": {
            "text/plain": [
              "'訊息發送成功！'"
            ],
            "application/vnd.google.colaboratory.intrinsic+json": {
              "type": "string"
            }
          },
          "metadata": {},
          "execution_count": 14
        }
      ]
    },
    {
      "cell_type": "code",
      "source": [
        "def notifyImage(msg, token, image):\n",
        "  url='https://notify-api.line.me/api/notify'\n",
        "  headers={'Authorization': 'Bearer ' + token}\n",
        "  data={'message': msg}\n",
        "  image=open(image, 'rb')\n",
        "  imageFile={'imageFile': image}\n",
        "  r=requests.post(url, headers=headers, data=data, files=imageFile)\n",
        "  if r.status_code==requests.codes.ok:\n",
        "    return '圖片發送成功！'\n",
        "  else:\n",
        "    return f'圖片發送失敗: {r.status_code}' \n"
      ],
      "metadata": {
        "id": "ixn5HkYplfiU"
      },
      "execution_count": null,
      "outputs": []
    },
    {
      "cell_type": "code",
      "source": [
        "token=\"Qh118dzcCM6eyQLpo5KR4hxEalUqCfnO99QG3RGfZFu\"\n",
        "notifyImage('Noah being naughty', token, '/content/drive/MyDrive/Colab Notebooks/IP-HW3/Noah.jpg')"
      ],
      "metadata": {
        "colab": {
          "base_uri": "https://localhost:8080/",
          "height": 36
        },
        "id": "sTMnEATPljCa",
        "outputId": "2b47a359-e760-4750-c45c-6c0a9a74f2ec"
      },
      "execution_count": null,
      "outputs": [
        {
          "output_type": "execute_result",
          "data": {
            "text/plain": [
              "'圖片發送成功！'"
            ],
            "application/vnd.google.colaboratory.intrinsic+json": {
              "type": "string"
            }
          },
          "metadata": {},
          "execution_count": 27
        }
      ]
    }
  ]
}